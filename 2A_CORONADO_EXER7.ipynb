{
  "nbformat": 4,
  "nbformat_minor": 0,
  "metadata": {
    "colab": {
      "provenance": []
    },
    "kernelspec": {
      "name": "python3",
      "display_name": "Python 3"
    },
    "language_info": {
      "name": "python"
    }
  },
  "cells": [
    {
      "cell_type": "markdown",
      "source": [
        "**Part 1: Data Preprocessing**"
      ],
      "metadata": {
        "id": "Ty0c-DmDiVhK"
      }
    },
    {
      "cell_type": "markdown",
      "source": [
        "Load the Dataset"
      ],
      "metadata": {
        "id": "UYglzppDieHg"
      }
    },
    {
      "cell_type": "code",
      "execution_count": null,
      "metadata": {
        "id": "Yc1UyLCniToC"
      },
      "outputs": [],
      "source": [
        "import pandas as pd\n",
        "import seaborn as sns\n",
        "import numpy as np\n",
        "import matplotlib.pyplot as plt\n",
        "from sklearn.model_selection import train_test_split\n",
        "from sklearn.linear_model import LogisticRegression\n",
        "from sklearn.linear_model import LinearRegression\n",
        "from sklearn.metrics import accuracy_score, confusion_matrix, classification_report, r2_score\n",
        "from sklearn.preprocessing import StandardScaler\n",
        "\n",
        "data = pd.read_csv('/content/Netflix_Userbase.csv')"
      ]
    },
    {
      "cell_type": "markdown",
      "source": [
        "Missing Values"
      ],
      "metadata": {
        "id": "au9hIOS8jLHw"
      }
    },
    {
      "cell_type": "code",
      "source": [
        "print(data.isnull().sum())"
      ],
      "metadata": {
        "colab": {
          "base_uri": "https://localhost:8080/"
        },
        "id": "lFEI7VRljP4H",
        "outputId": "5820c13a-2398-4433-a739-6d3fe6c20382"
      },
      "execution_count": null,
      "outputs": [
        {
          "output_type": "stream",
          "name": "stdout",
          "text": [
            "User ID              0\n",
            "Subscription Type    0\n",
            "Monthly Revenue      0\n",
            "Join Date            0\n",
            "Last Payment Date    0\n",
            "Country              0\n",
            "Age                  0\n",
            "Gender               0\n",
            "Device               0\n",
            "Plan Duration        0\n",
            "dtype: int64\n"
          ]
        }
      ]
    },
    {
      "cell_type": "markdown",
      "source": [
        "Encode Categorical Values"
      ],
      "metadata": {
        "id": "Hah2Tz47jU3H"
      }
    },
    {
      "cell_type": "code",
      "source": [
        "data_encoded = pd.get_dummies(data, columns=[ 'Subscription Type', 'Join Date', 'Last Payment Date', 'Country', 'Gender', 'Plan Duration'])\n",
        "data_dummies = pd.get_dummies(data, drop_first = True)\n",
        "print(data_encoded)"
      ],
      "metadata": {
        "colab": {
          "base_uri": "https://localhost:8080/"
        },
        "id": "Z3AUv0KzjXvo",
        "outputId": "397cfaa5-0027-40bc-c222-2768d7195166"
      },
      "execution_count": null,
      "outputs": [
        {
          "output_type": "stream",
          "name": "stdout",
          "text": [
            "      User ID  Monthly Revenue  Age      Device  Subscription Type_Basic  \\\n",
            "0           1               10   28  Smartphone                     True   \n",
            "1           2               15   35      Tablet                    False   \n",
            "2           3               12   42    Smart TV                    False   \n",
            "3           4               12   51      Laptop                    False   \n",
            "4           5               10   33  Smartphone                     True   \n",
            "...       ...              ...  ...         ...                      ...   \n",
            "2495     2496               14   28    Smart TV                    False   \n",
            "2496     2497               15   33    Smart TV                     True   \n",
            "2497     2498               12   38      Laptop                    False   \n",
            "2498     2499               13   48      Tablet                    False   \n",
            "2499     2500               15   35    Smart TV                     True   \n",
            "\n",
            "      Subscription Type_Premium  Subscription Type_Standard  \\\n",
            "0                         False                       False   \n",
            "1                          True                       False   \n",
            "2                         False                        True   \n",
            "3                         False                        True   \n",
            "4                         False                       False   \n",
            "...                         ...                         ...   \n",
            "2495                       True                       False   \n",
            "2496                      False                       False   \n",
            "2497                      False                        True   \n",
            "2498                      False                        True   \n",
            "2499                      False                       False   \n",
            "\n",
            "      Join Date_01-03-22  Join Date_01-05-23  Join Date_01-06-22  ...  \\\n",
            "0                  False               False               False  ...   \n",
            "1                  False               False               False  ...   \n",
            "2                  False               False               False  ...   \n",
            "3                  False               False               False  ...   \n",
            "4                  False                True               False  ...   \n",
            "...                  ...                 ...                 ...  ...   \n",
            "2495               False               False               False  ...   \n",
            "2496               False               False               False  ...   \n",
            "2497               False               False               False  ...   \n",
            "2498               False               False               False  ...   \n",
            "2499               False               False               False  ...   \n",
            "\n",
            "      Country_France  Country_Germany  Country_Italy  Country_Mexico  \\\n",
            "0              False            False          False           False   \n",
            "1              False            False          False           False   \n",
            "2              False            False          False           False   \n",
            "3              False            False          False           False   \n",
            "4              False             True          False           False   \n",
            "...              ...              ...            ...             ...   \n",
            "2495           False            False          False           False   \n",
            "2496           False            False          False           False   \n",
            "2497           False            False          False           False   \n",
            "2498           False            False          False           False   \n",
            "2499           False            False          False           False   \n",
            "\n",
            "      Country_Spain  Country_United Kingdom  Country_United States  \\\n",
            "0             False                   False                   True   \n",
            "1             False                   False                  False   \n",
            "2             False                    True                  False   \n",
            "3             False                   False                  False   \n",
            "4             False                   False                  False   \n",
            "...             ...                     ...                    ...   \n",
            "2495           True                   False                  False   \n",
            "2496           True                   False                  False   \n",
            "2497          False                   False                   True   \n",
            "2498          False                   False                  False   \n",
            "2499          False                   False                   True   \n",
            "\n",
            "      Gender_Female  Gender_Male  Plan Duration_1 Month  \n",
            "0             False         True                   True  \n",
            "1              True        False                   True  \n",
            "2             False         True                   True  \n",
            "3              True        False                   True  \n",
            "4             False         True                   True  \n",
            "...             ...          ...                    ...  \n",
            "2495           True        False                   True  \n",
            "2496           True        False                   True  \n",
            "2497          False         True                   True  \n",
            "2498           True        False                   True  \n",
            "2499           True        False                   True  \n",
            "\n",
            "[2500 rows x 346 columns]\n"
          ]
        }
      ]
    },
    {
      "cell_type": "markdown",
      "source": [
        "Feature Selection\n"
      ],
      "metadata": {
        "id": "K2012CgzkgO_"
      }
    },
    {
      "cell_type": "code",
      "source": [
        "data_dummies = pd.get_dummies(data, drop_first=True)\n",
        "data_dummies['Model'] = (data['Monthly Revenue'] > 10).astype(int)\n",
        "\n",
        "x = data_dummies.drop(['Age', 'Monthly Revenue'], axis=1)\n",
        "y = data_dummies['Model']"
      ],
      "metadata": {
        "id": "9299-ux9lOSy"
      },
      "execution_count": null,
      "outputs": []
    },
    {
      "cell_type": "markdown",
      "source": [
        "- The monthly revenue is a good choice for a dependent variable, as it is the output of all the other factors. It's the results, it's the indicator if a business is performing well. Like how they can easily tell if their business decision or their is a downward trend in their earnings based from their revenue, and in this way, they can easily identify which factors to influence when looking at all the overall dataset. A business should aim for maximizing their revenue."
      ],
      "metadata": {
        "id": "QjGL53ie6Ji6"
      }
    },
    {
      "cell_type": "markdown",
      "source": [
        "**Part 2: Exploratory Data Analysis (EDA)**"
      ],
      "metadata": {
        "id": "ZlOqAl-FlfU4"
      }
    },
    {
      "cell_type": "markdown",
      "source": [
        "Descriptive Statistics"
      ],
      "metadata": {
        "id": "QEVFgBxpm67B"
      }
    },
    {
      "cell_type": "code",
      "source": [
        "data.describe()"
      ],
      "metadata": {
        "colab": {
          "base_uri": "https://localhost:8080/",
          "height": 300
        },
        "id": "YBvhvFxam9r4",
        "outputId": "23e4899e-947a-4ac9-80a1-8b4e14d51f53"
      },
      "execution_count": null,
      "outputs": [
        {
          "output_type": "execute_result",
          "data": {
            "text/plain": [
              "          User ID  Monthly Revenue          Age\n",
              "count  2500.00000      2500.000000  2500.000000\n",
              "mean   1250.50000        12.508400    38.795600\n",
              "std     721.83216         1.686851     7.171778\n",
              "min       1.00000        10.000000    26.000000\n",
              "25%     625.75000        11.000000    32.000000\n",
              "50%    1250.50000        12.000000    39.000000\n",
              "75%    1875.25000        14.000000    45.000000\n",
              "max    2500.00000        15.000000    51.000000"
            ],
            "text/html": [
              "\n",
              "  <div id=\"df-2c93276a-66fd-4e52-a1f1-d2c4659c93d5\" class=\"colab-df-container\">\n",
              "    <div>\n",
              "<style scoped>\n",
              "    .dataframe tbody tr th:only-of-type {\n",
              "        vertical-align: middle;\n",
              "    }\n",
              "\n",
              "    .dataframe tbody tr th {\n",
              "        vertical-align: top;\n",
              "    }\n",
              "\n",
              "    .dataframe thead th {\n",
              "        text-align: right;\n",
              "    }\n",
              "</style>\n",
              "<table border=\"1\" class=\"dataframe\">\n",
              "  <thead>\n",
              "    <tr style=\"text-align: right;\">\n",
              "      <th></th>\n",
              "      <th>User ID</th>\n",
              "      <th>Monthly Revenue</th>\n",
              "      <th>Age</th>\n",
              "    </tr>\n",
              "  </thead>\n",
              "  <tbody>\n",
              "    <tr>\n",
              "      <th>count</th>\n",
              "      <td>2500.00000</td>\n",
              "      <td>2500.000000</td>\n",
              "      <td>2500.000000</td>\n",
              "    </tr>\n",
              "    <tr>\n",
              "      <th>mean</th>\n",
              "      <td>1250.50000</td>\n",
              "      <td>12.508400</td>\n",
              "      <td>38.795600</td>\n",
              "    </tr>\n",
              "    <tr>\n",
              "      <th>std</th>\n",
              "      <td>721.83216</td>\n",
              "      <td>1.686851</td>\n",
              "      <td>7.171778</td>\n",
              "    </tr>\n",
              "    <tr>\n",
              "      <th>min</th>\n",
              "      <td>1.00000</td>\n",
              "      <td>10.000000</td>\n",
              "      <td>26.000000</td>\n",
              "    </tr>\n",
              "    <tr>\n",
              "      <th>25%</th>\n",
              "      <td>625.75000</td>\n",
              "      <td>11.000000</td>\n",
              "      <td>32.000000</td>\n",
              "    </tr>\n",
              "    <tr>\n",
              "      <th>50%</th>\n",
              "      <td>1250.50000</td>\n",
              "      <td>12.000000</td>\n",
              "      <td>39.000000</td>\n",
              "    </tr>\n",
              "    <tr>\n",
              "      <th>75%</th>\n",
              "      <td>1875.25000</td>\n",
              "      <td>14.000000</td>\n",
              "      <td>45.000000</td>\n",
              "    </tr>\n",
              "    <tr>\n",
              "      <th>max</th>\n",
              "      <td>2500.00000</td>\n",
              "      <td>15.000000</td>\n",
              "      <td>51.000000</td>\n",
              "    </tr>\n",
              "  </tbody>\n",
              "</table>\n",
              "</div>\n",
              "    <div class=\"colab-df-buttons\">\n",
              "\n",
              "  <div class=\"colab-df-container\">\n",
              "    <button class=\"colab-df-convert\" onclick=\"convertToInteractive('df-2c93276a-66fd-4e52-a1f1-d2c4659c93d5')\"\n",
              "            title=\"Convert this dataframe to an interactive table.\"\n",
              "            style=\"display:none;\">\n",
              "\n",
              "  <svg xmlns=\"http://www.w3.org/2000/svg\" height=\"24px\" viewBox=\"0 -960 960 960\">\n",
              "    <path d=\"M120-120v-720h720v720H120Zm60-500h600v-160H180v160Zm220 220h160v-160H400v160Zm0 220h160v-160H400v160ZM180-400h160v-160H180v160Zm440 0h160v-160H620v160ZM180-180h160v-160H180v160Zm440 0h160v-160H620v160Z\"/>\n",
              "  </svg>\n",
              "    </button>\n",
              "\n",
              "  <style>\n",
              "    .colab-df-container {\n",
              "      display:flex;\n",
              "      gap: 12px;\n",
              "    }\n",
              "\n",
              "    .colab-df-convert {\n",
              "      background-color: #E8F0FE;\n",
              "      border: none;\n",
              "      border-radius: 50%;\n",
              "      cursor: pointer;\n",
              "      display: none;\n",
              "      fill: #1967D2;\n",
              "      height: 32px;\n",
              "      padding: 0 0 0 0;\n",
              "      width: 32px;\n",
              "    }\n",
              "\n",
              "    .colab-df-convert:hover {\n",
              "      background-color: #E2EBFA;\n",
              "      box-shadow: 0px 1px 2px rgba(60, 64, 67, 0.3), 0px 1px 3px 1px rgba(60, 64, 67, 0.15);\n",
              "      fill: #174EA6;\n",
              "    }\n",
              "\n",
              "    .colab-df-buttons div {\n",
              "      margin-bottom: 4px;\n",
              "    }\n",
              "\n",
              "    [theme=dark] .colab-df-convert {\n",
              "      background-color: #3B4455;\n",
              "      fill: #D2E3FC;\n",
              "    }\n",
              "\n",
              "    [theme=dark] .colab-df-convert:hover {\n",
              "      background-color: #434B5C;\n",
              "      box-shadow: 0px 1px 3px 1px rgba(0, 0, 0, 0.15);\n",
              "      filter: drop-shadow(0px 1px 2px rgba(0, 0, 0, 0.3));\n",
              "      fill: #FFFFFF;\n",
              "    }\n",
              "  </style>\n",
              "\n",
              "    <script>\n",
              "      const buttonEl =\n",
              "        document.querySelector('#df-2c93276a-66fd-4e52-a1f1-d2c4659c93d5 button.colab-df-convert');\n",
              "      buttonEl.style.display =\n",
              "        google.colab.kernel.accessAllowed ? 'block' : 'none';\n",
              "\n",
              "      async function convertToInteractive(key) {\n",
              "        const element = document.querySelector('#df-2c93276a-66fd-4e52-a1f1-d2c4659c93d5');\n",
              "        const dataTable =\n",
              "          await google.colab.kernel.invokeFunction('convertToInteractive',\n",
              "                                                    [key], {});\n",
              "        if (!dataTable) return;\n",
              "\n",
              "        const docLinkHtml = 'Like what you see? Visit the ' +\n",
              "          '<a target=\"_blank\" href=https://colab.research.google.com/notebooks/data_table.ipynb>data table notebook</a>'\n",
              "          + ' to learn more about interactive tables.';\n",
              "        element.innerHTML = '';\n",
              "        dataTable['output_type'] = 'display_data';\n",
              "        await google.colab.output.renderOutput(dataTable, element);\n",
              "        const docLink = document.createElement('div');\n",
              "        docLink.innerHTML = docLinkHtml;\n",
              "        element.appendChild(docLink);\n",
              "      }\n",
              "    </script>\n",
              "  </div>\n",
              "\n",
              "\n",
              "<div id=\"df-5795a302-2a20-4dca-aa8a-ce84cbeb4c28\">\n",
              "  <button class=\"colab-df-quickchart\" onclick=\"quickchart('df-5795a302-2a20-4dca-aa8a-ce84cbeb4c28')\"\n",
              "            title=\"Suggest charts\"\n",
              "            style=\"display:none;\">\n",
              "\n",
              "<svg xmlns=\"http://www.w3.org/2000/svg\" height=\"24px\"viewBox=\"0 0 24 24\"\n",
              "     width=\"24px\">\n",
              "    <g>\n",
              "        <path d=\"M19 3H5c-1.1 0-2 .9-2 2v14c0 1.1.9 2 2 2h14c1.1 0 2-.9 2-2V5c0-1.1-.9-2-2-2zM9 17H7v-7h2v7zm4 0h-2V7h2v10zm4 0h-2v-4h2v4z\"/>\n",
              "    </g>\n",
              "</svg>\n",
              "  </button>\n",
              "\n",
              "<style>\n",
              "  .colab-df-quickchart {\n",
              "      --bg-color: #E8F0FE;\n",
              "      --fill-color: #1967D2;\n",
              "      --hover-bg-color: #E2EBFA;\n",
              "      --hover-fill-color: #174EA6;\n",
              "      --disabled-fill-color: #AAA;\n",
              "      --disabled-bg-color: #DDD;\n",
              "  }\n",
              "\n",
              "  [theme=dark] .colab-df-quickchart {\n",
              "      --bg-color: #3B4455;\n",
              "      --fill-color: #D2E3FC;\n",
              "      --hover-bg-color: #434B5C;\n",
              "      --hover-fill-color: #FFFFFF;\n",
              "      --disabled-bg-color: #3B4455;\n",
              "      --disabled-fill-color: #666;\n",
              "  }\n",
              "\n",
              "  .colab-df-quickchart {\n",
              "    background-color: var(--bg-color);\n",
              "    border: none;\n",
              "    border-radius: 50%;\n",
              "    cursor: pointer;\n",
              "    display: none;\n",
              "    fill: var(--fill-color);\n",
              "    height: 32px;\n",
              "    padding: 0;\n",
              "    width: 32px;\n",
              "  }\n",
              "\n",
              "  .colab-df-quickchart:hover {\n",
              "    background-color: var(--hover-bg-color);\n",
              "    box-shadow: 0 1px 2px rgba(60, 64, 67, 0.3), 0 1px 3px 1px rgba(60, 64, 67, 0.15);\n",
              "    fill: var(--button-hover-fill-color);\n",
              "  }\n",
              "\n",
              "  .colab-df-quickchart-complete:disabled,\n",
              "  .colab-df-quickchart-complete:disabled:hover {\n",
              "    background-color: var(--disabled-bg-color);\n",
              "    fill: var(--disabled-fill-color);\n",
              "    box-shadow: none;\n",
              "  }\n",
              "\n",
              "  .colab-df-spinner {\n",
              "    border: 2px solid var(--fill-color);\n",
              "    border-color: transparent;\n",
              "    border-bottom-color: var(--fill-color);\n",
              "    animation:\n",
              "      spin 1s steps(1) infinite;\n",
              "  }\n",
              "\n",
              "  @keyframes spin {\n",
              "    0% {\n",
              "      border-color: transparent;\n",
              "      border-bottom-color: var(--fill-color);\n",
              "      border-left-color: var(--fill-color);\n",
              "    }\n",
              "    20% {\n",
              "      border-color: transparent;\n",
              "      border-left-color: var(--fill-color);\n",
              "      border-top-color: var(--fill-color);\n",
              "    }\n",
              "    30% {\n",
              "      border-color: transparent;\n",
              "      border-left-color: var(--fill-color);\n",
              "      border-top-color: var(--fill-color);\n",
              "      border-right-color: var(--fill-color);\n",
              "    }\n",
              "    40% {\n",
              "      border-color: transparent;\n",
              "      border-right-color: var(--fill-color);\n",
              "      border-top-color: var(--fill-color);\n",
              "    }\n",
              "    60% {\n",
              "      border-color: transparent;\n",
              "      border-right-color: var(--fill-color);\n",
              "    }\n",
              "    80% {\n",
              "      border-color: transparent;\n",
              "      border-right-color: var(--fill-color);\n",
              "      border-bottom-color: var(--fill-color);\n",
              "    }\n",
              "    90% {\n",
              "      border-color: transparent;\n",
              "      border-bottom-color: var(--fill-color);\n",
              "    }\n",
              "  }\n",
              "</style>\n",
              "\n",
              "  <script>\n",
              "    async function quickchart(key) {\n",
              "      const quickchartButtonEl =\n",
              "        document.querySelector('#' + key + ' button');\n",
              "      quickchartButtonEl.disabled = true;  // To prevent multiple clicks.\n",
              "      quickchartButtonEl.classList.add('colab-df-spinner');\n",
              "      try {\n",
              "        const charts = await google.colab.kernel.invokeFunction(\n",
              "            'suggestCharts', [key], {});\n",
              "      } catch (error) {\n",
              "        console.error('Error during call to suggestCharts:', error);\n",
              "      }\n",
              "      quickchartButtonEl.classList.remove('colab-df-spinner');\n",
              "      quickchartButtonEl.classList.add('colab-df-quickchart-complete');\n",
              "    }\n",
              "    (() => {\n",
              "      let quickchartButtonEl =\n",
              "        document.querySelector('#df-5795a302-2a20-4dca-aa8a-ce84cbeb4c28 button');\n",
              "      quickchartButtonEl.style.display =\n",
              "        google.colab.kernel.accessAllowed ? 'block' : 'none';\n",
              "    })();\n",
              "  </script>\n",
              "</div>\n",
              "    </div>\n",
              "  </div>\n"
            ],
            "application/vnd.google.colaboratory.intrinsic+json": {
              "type": "dataframe",
              "summary": "{\n  \"name\": \"data\",\n  \"rows\": 8,\n  \"fields\": [\n    {\n      \"column\": \"User ID\",\n      \"properties\": {\n        \"dtype\": \"number\",\n        \"std\": 900.7073161176459,\n        \"min\": 1.0,\n        \"max\": 2500.0,\n        \"num_unique_values\": 6,\n        \"samples\": [\n          2500.0,\n          1250.5,\n          1875.25\n        ],\n        \"semantic_type\": \"\",\n        \"description\": \"\"\n      }\n    },\n    {\n      \"column\": \"Monthly Revenue\",\n      \"properties\": {\n        \"dtype\": \"number\",\n        \"std\": 880.0444435915687,\n        \"min\": 1.6868513944775396,\n        \"max\": 2500.0,\n        \"num_unique_values\": 8,\n        \"samples\": [\n          12.5084,\n          12.0,\n          2500.0\n        ],\n        \"semantic_type\": \"\",\n        \"description\": \"\"\n      }\n    },\n    {\n      \"column\": \"Age\",\n      \"properties\": {\n        \"dtype\": \"number\",\n        \"std\": 871.9158499704185,\n        \"min\": 7.171777631644689,\n        \"max\": 2500.0,\n        \"num_unique_values\": 8,\n        \"samples\": [\n          38.7956,\n          39.0,\n          2500.0\n        ],\n        \"semantic_type\": \"\",\n        \"description\": \"\"\n      }\n    }\n  ]\n}"
            }
          },
          "metadata": {},
          "execution_count": 6
        }
      ]
    },
    {
      "cell_type": "markdown",
      "source": [
        "Visualizations"
      ],
      "metadata": {
        "id": "Ho2U4X9ZnWxJ"
      }
    },
    {
      "cell_type": "code",
      "source": [
        "sns.histplot(data = data, x='Monthly Revenue', multiple='stack')\n",
        "plt.title('Monthly Revenue Distribution', color = 'blue')\n",
        "plt.show()"
      ],
      "metadata": {
        "colab": {
          "base_uri": "https://localhost:8080/",
          "height": 472
        },
        "id": "3ovC6fVwrXVt",
        "outputId": "9365e9d8-3f9a-4294-aea9-0833e45d396d"
      },
      "execution_count": null,
      "outputs": [
        {
          "output_type": "display_data",
          "data": {
            "text/plain": [
              "<Figure size 640x480 with 1 Axes>"
            ],
            "image/png": "[encoded data removed]"
          },
          "metadata": {}
        }
      ]
    },
    {
      "cell_type": "code",
      "source": [
        "data.Country.value_counts().plot(kind=\"pie\")\n",
        "plt.title('User Demographics', color = 'blue')\n",
        "plt.axis('off')\n",
        "plt.show()"
      ],
      "metadata": {
        "colab": {
          "base_uri": "https://localhost:8080/",
          "height": 428
        },
        "id": "G1WdF6lSoBMO",
        "outputId": "9bed7137-96bf-4254-eb08-7da886729d27"
      },
      "execution_count": null,
      "outputs": [
        {
          "output_type": "display_data",
          "data": {
            "text/plain": [
              "<Figure size 640x480 with 1 Axes>"
            ],
            "image/png": "[encoded data removed]"
          },
          "metadata": {}
        }
      ]
    },
    {
      "cell_type": "markdown",
      "source": [
        "**Part 3: Linear Regression Model (Predicting Monthly Revenue)**"
      ],
      "metadata": {
        "id": "nU1Oz32lti7I"
      }
    },
    {
      "cell_type": "markdown",
      "source": [
        "Build the Model"
      ],
      "metadata": {
        "id": "ohNbMRBotn41"
      }
    },
    {
      "cell_type": "code",
      "source": [
        "x = data.drop('Monthly Revenue', axis=1)\n",
        "y = data[['Age']]\n",
        "\n",
        "x_train, x_test, y_train, y_test = train_test_split(x,y, test_size = 0.2, random_state = 42)\n",
        "\n",
        "model1 = LinearRegression()"
      ],
      "metadata": {
        "id": "zbCS9X-Ntp19"
      },
      "execution_count": null,
      "outputs": []
    },
    {
      "cell_type": "code",
      "source": [
        "x = data[['Age']]\n",
        "y = data[['Monthly Revenue']]\n",
        "\n",
        "model1 = LinearRegression()\n",
        "model1.fit(x,y)\n",
        "\n",
        "slope = model1.coef_[0]\n",
        "intercept = model1.intercept_\n",
        "print(\"Slope\", slope)\n",
        "print(\"Intercept\", intercept)\n",
        "\n",
        "plt.figure(facecolor = 'lightcyan')\n",
        "plt.scatter(x,y)\n",
        "plt.plot(x, model1.predict(x), color = 'orange', linewidth = 5)\n",
        "plt.xlabel('Independent Variable (Age)', color = 'blue')\n",
        "plt.ylabel('Dependent Variable (Monthly Revenue)', color = 'blue')\n",
        "plt.title('Linear Regression', color = 'maroon')\n",
        "plt.show()"
      ],
      "metadata": {
        "colab": {
          "base_uri": "https://localhost:8080/",
          "height": 507
        },
        "id": "LDSR-fQKuW81",
        "outputId": "b1fc0a98-f23b-4c07-aede-ffa930805d38"
      },
      "execution_count": null,
      "outputs": [
        {
          "output_type": "stream",
          "name": "stdout",
          "text": [
            "Slope [-0.00497304]\n",
            "Intercept [12.70133211]\n"
          ]
        },
        {
          "output_type": "display_data",
          "data": {
            "text/plain": [
              "<Figure size 640x480 with 1 Axes>"
            ],
            "image/png": "[encoded data removed]"
          },
          "metadata": {}
        }
      ]
    },
    {
      "cell_type": "markdown",
      "source": [
        "Model Evaluation"
      ],
      "metadata": {
        "id": "W348V0h0JSBI"
      }
    },
    {
      "cell_type": "code",
      "source": [
        "x_test = x_test[['Age']]\n",
        "y_pred = model1.predict(x_test)\n",
        "\n",
        "r2 = r2_score(y_test, y_pred)\n",
        "print(\"R-squared:\", r2)"
      ],
      "metadata": {
        "colab": {
          "base_uri": "https://localhost:8080/"
        },
        "id": "bRdfkYZ4ArLb",
        "outputId": "5611fdcb-d789-4a23-ad08-77380fb1ea01"
      },
      "execution_count": null,
      "outputs": [
        {
          "output_type": "stream",
          "name": "stdout",
          "text": [
            "R-squared: -13.443001979136746\n"
          ]
        }
      ]
    },
    {
      "cell_type": "markdown",
      "source": [
        "**Part 4: Logistic Regression Model (Predicting Customer Feedback)**"
      ],
      "metadata": {
        "id": "fnn6L5fmD70h"
      }
    },
    {
      "cell_type": "markdown",
      "source": [
        "Model Building"
      ],
      "metadata": {
        "id": "joHmcDDCD97o"
      }
    },
    {
      "cell_type": "code",
      "source": [
        "x_train, x_test, y_train, y_test = train_test_split(x,y, test_size=0.2, random_state=80)\n",
        "\n",
        "scaler = StandardScaler()\n",
        "x_train_scaled = scaler.fit_transform(x_train)\n",
        "x_test_scaled = scaler.fit_transform(x_test)\n",
        "\n",
        "model2 = LogisticRegression()\n",
        "model2.fit(x_train_scaled, y_train)\n",
        "\n"
      ],
      "metadata": {
        "colab": {
          "base_uri": "https://localhost:8080/",
          "height": 129
        },
        "id": "TTnXnpWnEAvr",
        "outputId": "0a7452e3-2f5a-4c62-e4ec-e64d2cbdc138"
      },
      "execution_count": null,
      "outputs": [
        {
          "output_type": "stream",
          "name": "stderr",
          "text": [
            "/usr/local/lib/python3.10/dist-packages/sklearn/utils/validation.py:1143: DataConversionWarning: A column-vector y was passed when a 1d array was expected. Please change the shape of y to (n_samples, ), for example using ravel().\n",
            "  y = column_or_1d(y, warn=True)\n"
          ]
        },
        {
          "output_type": "execute_result",
          "data": {
            "text/plain": [
              "LogisticRegression()"
            ],
            "text/html": [
              "<style>#sk-container-id-16 {color: black;background-color: white;}#sk-container-id-16 pre{padding: 0;}#sk-container-id-16 div.sk-toggleable {background-color: white;}#sk-container-id-16 label.sk-toggleable__label {cursor: pointer;display: block;width: 100%;margin-bottom: 0;padding: 0.3em;box-sizing: border-box;text-align: center;}#sk-container-id-16 label.sk-toggleable__label-arrow:before {content: \"▸\";float: left;margin-right: 0.25em;color: #696969;}#sk-container-id-16 label.sk-toggleable__label-arrow:hover:before {color: black;}#sk-container-id-16 div.sk-estimator:hover label.sk-toggleable__label-arrow:before {color: black;}#sk-container-id-16 div.sk-toggleable__content {max-height: 0;max-width: 0;overflow: hidden;text-align: left;background-color: #f0f8ff;}#sk-container-id-16 div.sk-toggleable__content pre {margin: 0.2em;color: black;border-radius: 0.25em;background-color: #f0f8ff;}#sk-container-id-16 input.sk-toggleable__control:checked~div.sk-toggleable__content {max-height: 200px;max-width: 100%;overflow: auto;}#sk-container-id-16 input.sk-toggleable__control:checked~label.sk-toggleable__label-arrow:before {content: \"▾\";}#sk-container-id-16 div.sk-estimator input.sk-toggleable__control:checked~label.sk-toggleable__label {background-color: #d4ebff;}#sk-container-id-16 div.sk-label input.sk-toggleable__control:checked~label.sk-toggleable__label {background-color: #d4ebff;}#sk-container-id-16 input.sk-hidden--visually {border: 0;clip: rect(1px 1px 1px 1px);clip: rect(1px, 1px, 1px, 1px);height: 1px;margin: -1px;overflow: hidden;padding: 0;position: absolute;width: 1px;}#sk-container-id-16 div.sk-estimator {font-family: monospace;background-color: #f0f8ff;border: 1px dotted black;border-radius: 0.25em;box-sizing: border-box;margin-bottom: 0.5em;}#sk-container-id-16 div.sk-estimator:hover {background-color: #d4ebff;}#sk-container-id-16 div.sk-parallel-item::after {content: \"\";width: 100%;border-bottom: 1px solid gray;flex-grow: 1;}#sk-container-id-16 div.sk-label:hover label.sk-toggleable__label {background-color: #d4ebff;}#sk-container-id-16 div.sk-serial::before {content: \"\";position: absolute;border-left: 1px solid gray;box-sizing: border-box;top: 0;bottom: 0;left: 50%;z-index: 0;}#sk-container-id-16 div.sk-serial {display: flex;flex-direction: column;align-items: center;background-color: white;padding-right: 0.2em;padding-left: 0.2em;position: relative;}#sk-container-id-16 div.sk-item {position: relative;z-index: 1;}#sk-container-id-16 div.sk-parallel {display: flex;align-items: stretch;justify-content: center;background-color: white;position: relative;}#sk-container-id-16 div.sk-item::before, #sk-container-id-16 div.sk-parallel-item::before {content: \"\";position: absolute;border-left: 1px solid gray;box-sizing: border-box;top: 0;bottom: 0;left: 50%;z-index: -1;}#sk-container-id-16 div.sk-parallel-item {display: flex;flex-direction: column;z-index: 1;position: relative;background-color: white;}#sk-container-id-16 div.sk-parallel-item:first-child::after {align-self: flex-end;width: 50%;}#sk-container-id-16 div.sk-parallel-item:last-child::after {align-self: flex-start;width: 50%;}#sk-container-id-16 div.sk-parallel-item:only-child::after {width: 0;}#sk-container-id-16 div.sk-dashed-wrapped {border: 1px dashed gray;margin: 0 0.4em 0.5em 0.4em;box-sizing: border-box;padding-bottom: 0.4em;background-color: white;}#sk-container-id-16 div.sk-label label {font-family: monospace;font-weight: bold;display: inline-block;line-height: 1.2em;}#sk-container-id-16 div.sk-label-container {text-align: center;}#sk-container-id-16 div.sk-container {/* jupyter's `normalize.less` sets `[hidden] { display: none; }` but bootstrap.min.css set `[hidden] { display: none !important; }` so we also need the `!important` here to be able to override the default hidden behavior on the sphinx rendered scikit-learn.org. See: https://github.com/scikit-learn/scikit-learn/issues/21755 */display: inline-block !important;position: relative;}#sk-container-id-16 div.sk-text-repr-fallback {display: none;}</style><div id=\"sk-container-id-16\" class=\"sk-top-container\"><div class=\"sk-text-repr-fallback\"><pre>LogisticRegression()</pre><b>In a Jupyter environment, please rerun this cell to show the HTML representation or trust the notebook. <br />On GitHub, the HTML representation is unable to render, please try loading this page with nbviewer.org.</b></div><div class=\"sk-container\" hidden><div class=\"sk-item\"><div class=\"sk-estimator sk-toggleable\"><input class=\"sk-toggleable__control sk-hidden--visually\" id=\"sk-estimator-id-16\" type=\"checkbox\" checked><label for=\"sk-estimator-id-16\" class=\"sk-toggleable__label sk-toggleable__label-arrow\">LogisticRegression</label><div class=\"sk-toggleable__content\"><pre>LogisticRegression()</pre></div></div></div></div></div>"
            ]
          },
          "metadata": {},
          "execution_count": 187
        }
      ]
    },
    {
      "cell_type": "markdown",
      "source": [
        "Evaluation"
      ],
      "metadata": {
        "id": "DMneqIWOEl0U"
      }
    },
    {
      "cell_type": "code",
      "source": [
        "y_pred = model2.predict(x_test_scaled)"
      ],
      "metadata": {
        "id": "nrfxiyTJEM7Y"
      },
      "execution_count": null,
      "outputs": []
    },
    {
      "cell_type": "code",
      "source": [
        "accuracy = accuracy_score(y_test, y_pred)\n",
        "conf_matrix = confusion_matrix(y_test, y_pred)\n",
        "class_report = classification_report(y_test, y_pred)\n",
        "\n",
        "print(f\"Accuracy: {accuracy}\")\n",
        "print(f\"Confusion Matrix: \")\n",
        "print(conf_matrix)\n",
        "print(f\"Classification Report: \")\n",
        "print(class_report)"
      ],
      "metadata": {
        "colab": {
          "base_uri": "https://localhost:8080/"
        },
        "id": "-rzzOnPfEPC4",
        "outputId": "fe582cd7-d16b-43ac-e26a-81499b00e68e"
      },
      "execution_count": null,
      "outputs": [
        {
          "output_type": "stream",
          "name": "stdout",
          "text": [
            "Accuracy: 0.18\n",
            "Confusion Matrix: \n",
            "[[ 0  0 43 33 10  0]\n",
            " [ 0  0 41 34  8  0]\n",
            " [ 0  0 45 36  8  0]\n",
            " [ 0  0 34 40 12  0]\n",
            " [ 0  0 43 32  5  0]\n",
            " [ 0  0 46 20 10  0]]\n",
            "Classification Report: \n",
            "              precision    recall  f1-score   support\n",
            "\n",
            "          10       0.00      0.00      0.00        86\n",
            "          11       0.00      0.00      0.00        83\n",
            "          12       0.18      0.51      0.26        89\n",
            "          13       0.21      0.47      0.28        86\n",
            "          14       0.09      0.06      0.08        80\n",
            "          15       0.00      0.00      0.00        76\n",
            "\n",
            "    accuracy                           0.18       500\n",
            "   macro avg       0.08      0.17      0.10       500\n",
            "weighted avg       0.08      0.18      0.11       500\n",
            "\n"
          ]
        },
        {
          "output_type": "stream",
          "name": "stderr",
          "text": [
            "/usr/local/lib/python3.10/dist-packages/sklearn/metrics/_classification.py:1344: UndefinedMetricWarning: Precision and F-score are ill-defined and being set to 0.0 in labels with no predicted samples. Use `zero_division` parameter to control this behavior.\n",
            "  _warn_prf(average, modifier, msg_start, len(result))\n",
            "/usr/local/lib/python3.10/dist-packages/sklearn/metrics/_classification.py:1344: UndefinedMetricWarning: Precision and F-score are ill-defined and being set to 0.0 in labels with no predicted samples. Use `zero_division` parameter to control this behavior.\n",
            "  _warn_prf(average, modifier, msg_start, len(result))\n",
            "/usr/local/lib/python3.10/dist-packages/sklearn/metrics/_classification.py:1344: UndefinedMetricWarning: Precision and F-score are ill-defined and being set to 0.0 in labels with no predicted samples. Use `zero_division` parameter to control this behavior.\n",
            "  _warn_prf(average, modifier, msg_start, len(result))\n"
          ]
        }
      ]
    },
    {
      "cell_type": "markdown",
      "source": [
        "**Part 5: Comparative Analysis and Visualization**"
      ],
      "metadata": {
        "id": "Yk2walkYJCNB"
      }
    },
    {
      "cell_type": "markdown",
      "source": [
        "Feature Importance"
      ],
      "metadata": {
        "id": "5vRpO40jRvve"
      }
    },
    {
      "cell_type": "code",
      "source": [
        "scaler = StandardScaler()\n",
        "x_scaled = scaler.fit_transform(x)\n",
        "model1.fit(x_scaled, y)\n",
        "standardized_coef_model1 = model1.coef_[0]"
      ],
      "metadata": {
        "id": "x0kgk-IEgfap"
      },
      "execution_count": null,
      "outputs": []
    },
    {
      "cell_type": "code",
      "source": [
        "x_train_scaled = scaler.fit_transform(x_train)\n",
        "model2.fit(x_train_scaled, y_train)\n",
        "standardized_coef_model2 = model2.coef_[0]"
      ],
      "metadata": {
        "colab": {
          "base_uri": "https://localhost:8080/"
        },
        "id": "5ZAyQPfqkTmx",
        "outputId": "6d1ec66b-5807-4067-c2e1-0aa2e14ec6a5"
      },
      "execution_count": null,
      "outputs": [
        {
          "output_type": "stream",
          "name": "stderr",
          "text": [
            "/usr/local/lib/python3.10/dist-packages/sklearn/utils/validation.py:1143: DataConversionWarning: A column-vector y was passed when a 1d array was expected. Please change the shape of y to (n_samples, ), for example using ravel().\n",
            "  y = column_or_1d(y, warn=True)\n"
          ]
        }
      ]
    },
    {
      "cell_type": "code",
      "source": [
        "\n",
        "plt.barh(range(len(standardized_coef_model1)), standardized_coef_model1, align='center', color='skyblue', label='Linear Regression')\n",
        "plt.barh(range(len(standardized_coef_model2)), standardized_coef_model2, align='center', color='salmon', label='Logistic Regression')\n",
        "plt.yticks(range(len(x.columns)), x.columns)\n",
        "plt.xlabel('Standardized Coefficient')\n",
        "plt.ylabel('Feature')\n",
        "plt.title('Feature Importance Comparison (Standardized Coefficients)')\n",
        "plt.legend()\n",
        "plt.show()"
      ],
      "metadata": {
        "colab": {
          "base_uri": "https://localhost:8080/",
          "height": 472
        },
        "id": "geZje4SskVvX",
        "outputId": "abebc178-8327-4497-bfa7-fd31bc0c71bc"
      },
      "execution_count": null,
      "outputs": [
        {
          "output_type": "display_data",
          "data": {
            "text/plain": [
              "<Figure size 640x480 with 1 Axes>"
            ],
            "image/png": "[encoded data removed]"
          },
          "metadata": {}
        }
      ]
    },
    {
      "cell_type": "markdown",
      "source": [
        "- The standardized coefficient of the linear regression model appears in the negative as the line in the graph of the linear regression model also dips. This seems to imply that as the age increases, the monthly revenue is likely to also decrease. In the case of the logistic regression, it also returns a low performing model which has an 18% accuracy rate. Basically, the coefficients (weights) assigned to each feature show how strongly it's related to the log-odds of each class. So, if a feature has higher absolute coefficients, it means it's more significant in predicting the likelihood of a particular class."
      ],
      "metadata": {
        "id": "QrB3wp_An_rX"
      }
    },
    {
      "cell_type": "markdown",
      "source": [
        "Insights"
      ],
      "metadata": {
        "id": "9lwVPZXK3utd"
      }
    },
    {
      "cell_type": "markdown",
      "source": [
        "- According to the linear regression model, there is a clear connection between a user's age and their monthly revenue. As a person gets older, they tend to spend less on the platform, which suggests that older users are either not as active as younger users or just don't spend as much. Additionally, it seems that younger users are more likely to have a premium subscription than older users.\n",
        "- According to the logistic regression model, the type of subscription (basic or premium) is an important factor in predicting whether a user is likely to have a premium subscription. This implies that users with premium subscriptions are more likely to generate higher monthly revenue.\n",
        "- The probability of a user having a premium subscription could be impacted by the type of device they use, such as a smartphone, laptop, or tablet. Some devices may be related to increased engagement or expenditure patterns, resulting in higher monthly revenue.\n",
        "- According to the linear regression model, the Monthly Revenue generated by a user may be affected by their country of residence. This is because users from certain countries tend to be more active or spend more on the platform, which can result in higher Monthly Revenue. Additionally, the country of the user may also impact their likelihood of subscribing to premium services, which can also contribute to higher Monthly Revenue."
      ],
      "metadata": {
        "id": "l9fU5Fpa3ytT"
      }
    }
  ]
}